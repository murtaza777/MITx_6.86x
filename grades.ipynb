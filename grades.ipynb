{
 "cells": [
  {
   "cell_type": "markdown",
   "metadata": {},
   "source": [
    "## Grader calculator for MITx 6.86x 2020 spring run ##\n",
    "\n",
    "Just fill you own grades and see the fina lgrader accoring to the following grading policy:\n",
    "\n",
    "Your overall score in this class will be a weighted average of your scores for the different components, with the following weights:\n",
    "\n",
    "- 16% for the lecture exercises (divided equally among the 16 out of 19 lectures)\n",
    "- 18% for the homeworks (divided equally among 6 (out of 7) homeworks)\n",
    "- 2% for the Project 0\n",
    "- 36% for the Projects (divided equally among 4 (out of 5)\n",
    "- 12% for the Midterm exam (timed)\n",
    "- 16% for the final exam (timed)\n",
    "\n",
    "To earn a verified certificate for this course, you will need to obtain an overall score of 60% or more of the maximum possible overall score.\n",
    "\n",
    "Lecture Exercises, Problem Sets, and Projects\n",
    "\n",
    "- The lowest 3 scores among the 19 lectures will be dropped, so only 16 out of 19 lectures will count .\n",
    "- The lowest 1 scores among the 7 homeworks will be dropped, so only 6 out of 7 homeworks will count .\n",
    "- The lowest 1 score among the 5 projects (excluding project 0) will be dropped, so only 4 out of 5 projects will count .\n"
   ]
  },
  {
   "cell_type": "code",
   "execution_count": 1,
   "metadata": {},
   "outputs": [],
   "source": [
    "using Statistics"
   ]
  },
  {
   "cell_type": "code",
   "execution_count": 2,
   "metadata": {},
   "outputs": [
    {
     "data": {
      "text/plain": [
       "0.7"
      ]
     },
     "execution_count": 2,
     "metadata": {},
     "output_type": "execute_result"
    }
   ],
   "source": [
    "# Fill these with your own grades (example)\n",
    "lectures_grades  = [10/11,5/18,8/12,7/11,8/9,10/13,0/9,4/14,6/5,10/18,4/18,6/11,20/24,5/10,15/24,14/20,18/20,7/9,2/8]\n",
    "homeworks_grades = [0/61,10/28,7/12,20/25,21/26,15/32,10/36]\n",
    "project0_grade   = 0.7\n",
    "projects_grades  = [37/39,15/72,0/39,8/14,8/14] # exclude Project 0 here\n",
    "midterm_grade    = 20/38\n",
    "final_grade      = 0.7"
   ]
  },
  {
   "cell_type": "code",
   "execution_count": null,
   "metadata": {},
   "outputs": [],
   "source": [
    "# Fill these with your own grades\n",
    "lectures_grades  = [0/11,0/18,0/12,0/11,0/9,0/13,0/9,0/14,0/5,0/18,0/18,0/11,0/24,0/10,0/24,0/20,0/20,0/9,0/8]\n",
    "homeworks_grades = [0/61,0/28,0/12,0/25,0/26,0/32,0/36]\n",
    "project0_grade   = 0\n",
    "projects_grades  = [0/39,0/72,0/39,0/14,0/14] # exclude Project 0 here\n",
    "midterm_grade    = 0/38\n",
    "final_grade      = 0"
   ]
  },
  {
   "cell_type": "code",
   "execution_count": 3,
   "metadata": {},
   "outputs": [
    {
     "name": "stdout",
     "output_type": "stream",
     "text": [
      "Your final grade is 0.60569908271553.\n"
     ]
    }
   ],
   "source": [
    "# Here is your final grade\n",
    "\n",
    "lectures_grades_retained  = sort(lectures_grades)[4:end]\n",
    "homeworks_grades_retained = sort(homeworks_grades)[2:end]\n",
    "projects_grades_retained  = sort(projects_grades)[2:end]\n",
    "\n",
    "grades = [mean(lectures_grades_retained),mean(homeworks_grades_retained),project0_grade,mean(projects_grades_retained),midterm_grade,final_grade]\n",
    "\n",
    "w_lectures  = 0.16\n",
    "w_homeworks = 0.18\n",
    "w_project0  = 0.02\n",
    "w_projects  = 0.36\n",
    "w_midterm   = 0.12\n",
    "w_final     = 0.16\n",
    "weigths     = [w_lectures,w_homeworks,w_project0,w_projects,w_midterm,w_final]\n",
    "\n",
    "finalGrade = grades' * weigths\n",
    "println(\"Your final grade is $(finalGrade).\")"
   ]
  },
  {
   "cell_type": "code",
   "execution_count": null,
   "metadata": {},
   "outputs": [],
   "source": []
  }
 ],
 "metadata": {
  "@webio": {
   "lastCommId": null,
   "lastKernelId": null
  },
  "kernelspec": {
   "display_name": "Julia 1.3.0",
   "language": "julia",
   "name": "julia-1.3"
  },
  "language_info": {
   "file_extension": ".jl",
   "mimetype": "application/julia",
   "name": "julia",
   "version": "1.3.0"
  }
 },
 "nbformat": 4,
 "nbformat_minor": 2
}
